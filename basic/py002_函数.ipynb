{
 "cells": [
  {
   "cell_type": "markdown",
   "metadata": {
    "id": "11AWpKkIS6nd"
   },
   "source": [
    "# 1. 作用基本原则\n",
    "\n",
    "## 函数的作用\n",
    "1. 执行一个任务（无返回值）；\n",
    "2. 返回值；\n",
    "\n",
    "## 基本原则\n",
    "1. 函数名用小写字母，有意义的英文单词\n",
    "2. 单词之间用_来连接"
   ]
  },
  {
   "cell_type": "code",
   "execution_count": null,
   "metadata": {
    "colab": {
     "base_uri": "https://localhost:8080/"
    },
    "executionInfo": {
     "elapsed": 17,
     "status": "ok",
     "timestamp": 1750977911137,
     "user": {
      "displayName": "Liu Wenjie",
      "userId": "05015053855381031931"
     },
     "user_tz": 420
    },
    "id": "XhZqB8wRStRo",
    "outputId": "199b49bc-8271-4270-beee-6b3c644d0a89"
   },
   "outputs": [
    {
     "name": "stdout",
     "output_type": "stream",
     "text": [
      "Hi, George Mcdownald\n",
      "Welcome aboard\n"
     ]
    }
   ],
   "source": [
    "def greet(first_name, last_name):\n",
    "  print(f\"Hi, {first_name} {last_name}\")\n",
    "  print(\"Welcome aboard\")\n",
    "\n",
    "\n",
    "greet(\"George\", \"Mcdownald\")"
   ]
  },
  {
   "cell_type": "markdown",
   "metadata": {
    "id": "E_9WZ47Kau8J"
   },
   "source": [
    "# 2. 五种函数参数\n",
    "\n",
    "1. 位置参数 (Positional Arguments)：这是最常见也是最基本的参数类型。在函数调用时，实参会按照它们在函数定义中形参的顺序依次匹配；\n",
    "\n",
    "``` python\n",
    "def greet(first_name, last_name):\n",
    "  print(f\"Hi, {first_name} {last_name}\")\n",
    "  print(\"Welcome aboard\")\n",
    "\n",
    "\n",
    "greet(\"George\", \"Mcdownald\")\n",
    "```\n",
    "\n",
    "2. 关键字参数 (Keyword Arguments)：在函数调用时，可以明确指定实参要绑定到哪个形参，即使它们的顺序与函数定义中的顺序不同。这大大提高了代码的可读性，并允许你跳过某些参数（如果它们有默认值的话）；\n",
    "\n",
    "```python\n",
    "def describe_person(name, age):\n",
    "    print(f\"Name: {name}, Age: {age}\")\n",
    "\n",
    "describe_person(age=30, name=\"Bob\") # 顺序无关紧要，只要指定了关键字\n",
    "```\n",
    "\n",
    "3. 默认参数 (Default Arguments)：在函数定义时，你可以为形参设置一个默认值。如果在函数调用时没有为该参数提供实参，那么将使用其默认值。默认参数只能放在位置参数之后；\n",
    "\n",
    "```python\n",
    "def send_message(message, recipient=\"World\"):\n",
    "    print(f\"Sending '{message}' to {recipient}.\")\n",
    "\n",
    "send_message(\"Greetings\") # recipient 使用默认值 \"World\"\n",
    "send_message(\"Hello\", \"James\") # recipient 被指定为 \"James\"\n",
    "```\n",
    "\n",
    "4. 可变位置参数 (Arbitrary Positional Arguments) - *args：当你不知道函数会被传入多少个位置参数时，可以使用 *args。它会将所有额外的、未被其他形参捕获的位置参数收集到一个 元组 (tuple) 中；\n",
    "\n",
    "```python\n",
    "def sum_all_numbers(*numbers):\n",
    "    total = 0\n",
    "    for num in numbers:\n",
    "        total += num\n",
    "    print(f\"Sum: {total}\")\n",
    "\n",
    "sum_all_numbers(1, 2, 3)          # numbers = (1, 2, 3)\n",
    "sum_all_numbers(10, 20, 30, 40)   # numbers = (10, 20, 30, 40)\n",
    "```\n",
    "\n",
    "5. 可变关键字参数 (Arbitrary Keyword Arguments) - \\*\\*kwargs：当你不知道函数会被传入多少个关键字参数时，可以使用 \\*\\*kwargs。它会将所有额外的、未被其他形参捕获的关键字参数收集到一个字典 (dictionary) 中；\n",
    "\n",
    "```python\n",
    "def print_user_info(**info):\n",
    "    for key, value in info.items():\n",
    "        print(f\"{key.replace('_', ' ').title()}: {value}\")\n",
    "\n",
    "print_user_info(name=\"Charlie\", age=25, city=\"New York\")\n",
    "# info = {'name': 'Charlie', 'age': 25, 'city': 'New York'}\n",
    "```\n",
    "\n",
    "这五种参数类型可以组合使用，但它们在函数定义中的顺序是有严格规定的：\n",
    "\n",
    "位置参数 -> 默认参数 -> *args -> 关键字只传参数 (Keyword-Only Arguments) -> **kwargs\n",
    "\n",
    "其中，“关键字只传参数” 是一种特殊的参数，它必须以关键字形式传递，不能通过位置传递。它通常出现在 *args 之后。"
   ]
  },
  {
   "cell_type": "code",
   "execution_count": null,
   "metadata": {
    "colab": {
     "base_uri": "https://localhost:8080/"
    },
    "executionInfo": {
     "elapsed": 49,
     "status": "ok",
     "timestamp": 1750979362781,
     "user": {
      "displayName": "Liu Wenjie",
      "userId": "05015053855381031931"
     },
     "user_tz": 420
    },
    "id": "sDU7dsoIb7P9",
    "outputId": "af3aae6f-4396-4d2f-f422-b40428308ec2"
   },
   "outputs": [
    {
     "name": "stdout",
     "output_type": "stream",
     "text": [
      "3\n"
     ]
    }
   ],
   "source": [
    "# 关键字参数\n",
    "def increment(number, by):\n",
    "  return number + by\n",
    "\n",
    "\n",
    "print(increment(2, by=1))\n"
   ]
  },
  {
   "cell_type": "code",
   "execution_count": null,
   "metadata": {
    "colab": {
     "base_uri": "https://localhost:8080/"
    },
    "executionInfo": {
     "elapsed": 6,
     "status": "ok",
     "timestamp": 1750979466241,
     "user": {
      "displayName": "Liu Wenjie",
      "userId": "05015053855381031931"
     },
     "user_tz": 420
    },
    "id": "wWT_we6Dggzd",
    "outputId": "a0e832de-b039-43eb-fda9-ae5c711fc070"
   },
   "outputs": [
    {
     "name": "stdout",
     "output_type": "stream",
     "text": [
      "3\n",
      "7\n"
     ]
    }
   ],
   "source": [
    "# 默认参数\n",
    "def increment(number, by=1):\n",
    "  return number + by\n",
    "\n",
    "\n",
    "print(increment(2))\n",
    "print(increment(2, 5))"
   ]
  },
  {
   "cell_type": "code",
   "execution_count": null,
   "metadata": {
    "colab": {
     "base_uri": "https://localhost:8080/"
    },
    "executionInfo": {
     "elapsed": 9,
     "status": "ok",
     "timestamp": 1750979686196,
     "user": {
      "displayName": "Liu Wenjie",
      "userId": "05015053855381031931"
     },
     "user_tz": 420
    },
    "id": "f6XYskrHhVrn",
    "outputId": "54800598-b45f-443f-8858-bc9e875f1906"
   },
   "outputs": [
    {
     "name": "stdout",
     "output_type": "stream",
     "text": [
      "120\n"
     ]
    }
   ],
   "source": [
    "# 可变位置参数\n",
    "def multiply(*numbers):\n",
    "  total = 1\n",
    "  for number in numbers:\n",
    "    total *= number\n",
    "  return total\n",
    "\n",
    "\n",
    "print(multiply(2, 3, 4, 5))"
   ]
  },
  {
   "cell_type": "code",
   "execution_count": 2,
   "metadata": {
    "colab": {
     "base_uri": "https://localhost:8080/"
    },
    "executionInfo": {
     "elapsed": 8,
     "status": "ok",
     "timestamp": 1750980072086,
     "user": {
      "displayName": "Liu Wenjie",
      "userId": "05015053855381031931"
     },
     "user_tz": 420
    },
    "id": "_EY9Ql82iXAI",
    "outputId": "463e6c61-430e-46fd-a5a6-c0c46bfd8bd7"
   },
   "outputs": [
    {
     "name": "stdout",
     "output_type": "stream",
     "text": [
      "{'id': 1, 'name': 'John', 'age': 30}\n",
      "John\n"
     ]
    }
   ],
   "source": [
    "# 可变关键字参数\n",
    "def save_user(**user):\n",
    "  print(user)\n",
    "  print(user[\"name\"])\n",
    "\n",
    "\n",
    "save_user(id=1, name=\"John\", age=30)"
   ]
  },
  {
   "cell_type": "markdown",
   "metadata": {
    "id": "RATQpc8CjDDD"
   },
   "source": [
    "# 3. 变量的作用域\n",
    "\n",
    "1. 普通变量的作用域只在缩进的范围内有效；\n",
    "\n",
    "```python\n",
    "def greet(name):\n",
    "  # name, message 都是变量。这两个变量只在greet函数中有效\n",
    "  message = 'Hello'\n",
    "```\n",
    "\n",
    "2. 全局变量\n",
    "\n",
    "在函数体之外定义的变量为全局变量。\n",
    "\n",
    "1. 如果在函数体之内要修改全局函数，需要在函数体之内定义全局变量；"
   ]
  },
  {
   "cell_type": "code",
   "execution_count": 3,
   "metadata": {
    "colab": {
     "base_uri": "https://localhost:8080/"
    },
    "executionInfo": {
     "elapsed": 6,
     "status": "ok",
     "timestamp": 1750980606017,
     "user": {
      "displayName": "Liu Wenjie",
      "userId": "05015053855381031931"
     },
     "user_tz": 420
    },
    "id": "4AUNh3MIkgTv",
    "outputId": "a70bb5af-5b26-4bfc-b859-3f94d143aff5"
   },
   "outputs": [
    {
     "name": "stdout",
     "output_type": "stream",
     "text": [
      "a\n",
      "c\n"
     ]
    }
   ],
   "source": [
    "message = \"a\"\n",
    "\n",
    "\n",
    "def greet1():\n",
    "  message = \"b\"\n",
    "\n",
    "\n",
    "def greet2():\n",
    "  global message\n",
    "  message = \"c\"\n",
    "\n",
    "\n",
    "greet1()\n",
    "print(message)\n",
    "greet2()\n",
    "print(message)"
   ]
  },
  {
   "cell_type": "code",
   "execution_count": 5,
   "metadata": {
    "colab": {
     "base_uri": "https://localhost:8080/"
    },
    "executionInfo": {
     "elapsed": 9,
     "status": "ok",
     "timestamp": 1751039516710,
     "user": {
      "displayName": "Liu Wenjie",
      "userId": "05015053855381031931"
     },
     "user_tz": 420
    },
    "id": "aInn2Fjjlue4",
    "outputId": "36aa89b6-94db-434f-ca08-94c57042339b"
   },
   "outputs": [
    {
     "name": "stdout",
     "output_type": "stream",
     "text": [
      "7\n",
      "Fizz-Buzz\n",
      "Buzz\n"
     ]
    }
   ],
   "source": [
    "# Fizz-Buzz\n",
    "def fizz_buzz(input):\n",
    "  if (input % 3 == 0) and (input % 5 == 0):\n",
    "    return \"Fizz-Buzz\"\n",
    "  if input % 3 == 0:\n",
    "    return \"Fizz\"\n",
    "  if input % 5 == 0:\n",
    "    return \"Buzz\"\n",
    "  return input\n",
    "\n",
    "\n",
    "print(fizz_buzz(7))\n",
    "print(fizz_buzz(15))\n",
    "print(fizz_buzz(25))"
   ]
  }
 ],
 "metadata": {
  "colab": {
   "authorship_tag": "ABX9TyPqrueTv2V6eOqktC/DNxYs",
   "provenance": [],
   "toc_visible": true
  },
  "kernelspec": {
   "display_name": ".venv",
   "language": "python",
   "name": "python3"
  },
  "language_info": {
   "codemirror_mode": {
    "name": "ipython",
    "version": 3
   },
   "file_extension": ".py",
   "mimetype": "text/x-python",
   "name": "python",
   "nbconvert_exporter": "python",
   "pygments_lexer": "ipython3",
   "version": "3.12.11"
  }
 },
 "nbformat": 4,
 "nbformat_minor": 0
}
